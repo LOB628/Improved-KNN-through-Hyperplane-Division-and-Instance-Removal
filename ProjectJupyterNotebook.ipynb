{
 "cells": [
  {
   "cell_type": "code",
   "execution_count": 77,
   "metadata": {
    "id": "v1MAlZzjI6re"
   },
   "outputs": [
    {
     "name": "stdout",
     "output_type": "stream",
     "text": [
      "time: 0 ns (started: 2023-02-05 23:22:35 -05:00)\n"
     ]
    }
   ],
   "source": [
    "import pandas as pd\n",
    "import numpy as np\n",
    "from math import pi,sqrt,log\n",
    "import matplotlib.pyplot as plt\n",
    "from sklearn.datasets import load_iris,load_diabetes,make_blobs\n",
    "from sklearn.cluster import KMeans\n",
    "from sklearn.neighbors import KNeighborsClassifier\n",
    "from sklearn.model_selection import train_test_split\n",
    "from sklearn.metrics import accuracy_score,balanced_accuracy_score,confusion_matrix\n",
    "import timeit"
   ]
  },
  {
   "cell_type": "code",
   "source": [
    "!pip install ipython-autotime\n",
    "%load_ext autotime"
   ],
   "metadata": {
    "colab": {
     "base_uri": "https://localhost:8080/"
    },
    "id": "h5lvAd02I521",
    "outputId": "44d002a6-09c1-4632-daa4-6ad61adb810f"
   },
   "execution_count": 78,
   "outputs": [
    {
     "name": "stdout",
     "output_type": "stream",
     "text": [
      "Requirement already satisfied: ipython-autotime in c:\\users\\siruv\\pycharmprojects\\machinelearning\\venv\\lib\\site-packages (0.3.1)The autotime extension is already loaded. To reload it, use:\n",
      "  %reload_ext autotime\n",
      "time: 1.17 s (started: 2023-02-05 23:22:36 -05:00)\n"
     ]
    },
    {
     "name": "stderr",
     "output_type": "stream",
     "text": [
      "WARNING: You are using pip version 21.3.1; however, version 23.0 is available.\n",
      "You should consider upgrading via the 'C:\\Users\\siruv\\PycharmProjects\\MachineLearning\\venv\\Scripts\\python.exe -m pip install --upgrade pip' command.\n"
     ]
    },
    {
     "name": "stdout",
     "output_type": "stream",
     "text": [
      "\n",
      "Requirement already satisfied: ipython in c:\\users\\siruv\\pycharmprojects\\machinelearning\\venv\\lib\\site-packages (from ipython-autotime) (8.9.0)\n",
      "Requirement already satisfied: stack-data in c:\\users\\siruv\\pycharmprojects\\machinelearning\\venv\\lib\\site-packages (from ipython->ipython-autotime) (0.6.2)\n",
      "Requirement already satisfied: jedi>=0.16 in c:\\users\\siruv\\pycharmprojects\\machinelearning\\venv\\lib\\site-packages (from ipython->ipython-autotime) (0.18.2)\n",
      "Requirement already satisfied: matplotlib-inline in c:\\users\\siruv\\pycharmprojects\\machinelearning\\venv\\lib\\site-packages (from ipython->ipython-autotime) (0.1.6)\n",
      "Requirement already satisfied: pickleshare in c:\\users\\siruv\\pycharmprojects\\machinelearning\\venv\\lib\\site-packages (from ipython->ipython-autotime) (0.7.5)\n",
      "Requirement already satisfied: decorator in c:\\users\\siruv\\pycharmprojects\\machinelearning\\venv\\lib\\site-packages (from ipython->ipython-autotime) (5.1.1)\n",
      "Requirement already satisfied: colorama in c:\\users\\siruv\\pycharmprojects\\machinelearning\\venv\\lib\\site-packages (from ipython->ipython-autotime) (0.4.6)\n",
      "Requirement already satisfied: backcall in c:\\users\\siruv\\pycharmprojects\\machinelearning\\venv\\lib\\site-packages (from ipython->ipython-autotime) (0.2.0)\n",
      "Requirement already satisfied: traitlets>=5 in c:\\users\\siruv\\pycharmprojects\\machinelearning\\venv\\lib\\site-packages (from ipython->ipython-autotime) (5.9.0)\n",
      "Requirement already satisfied: pygments>=2.4.0 in c:\\users\\siruv\\pycharmprojects\\machinelearning\\venv\\lib\\site-packages (from ipython->ipython-autotime) (2.14.0)\n",
      "Requirement already satisfied: prompt-toolkit<3.1.0,>=3.0.30 in c:\\users\\siruv\\pycharmprojects\\machinelearning\\venv\\lib\\site-packages (from ipython->ipython-autotime) (3.0.36)\n",
      "Requirement already satisfied: parso<0.9.0,>=0.8.0 in c:\\users\\siruv\\pycharmprojects\\machinelearning\\venv\\lib\\site-packages (from jedi>=0.16->ipython->ipython-autotime) (0.8.3)\n",
      "Requirement already satisfied: wcwidth in c:\\users\\siruv\\pycharmprojects\\machinelearning\\venv\\lib\\site-packages (from prompt-toolkit<3.1.0,>=3.0.30->ipython->ipython-autotime) (0.2.6)\n",
      "Requirement already satisfied: asttokens>=2.1.0 in c:\\users\\siruv\\pycharmprojects\\machinelearning\\venv\\lib\\site-packages (from stack-data->ipython->ipython-autotime) (2.2.1)\n",
      "Requirement already satisfied: pure-eval in c:\\users\\siruv\\pycharmprojects\\machinelearning\\venv\\lib\\site-packages (from stack-data->ipython->ipython-autotime) (0.2.2)\n",
      "Requirement already satisfied: executing>=1.2.0 in c:\\users\\siruv\\pycharmprojects\\machinelearning\\venv\\lib\\site-packages (from stack-data->ipython->ipython-autotime) (1.2.0)\n",
      "Requirement already satisfied: six in c:\\users\\siruv\\pycharmprojects\\machinelearning\\venv\\lib\\site-packages (from asttokens>=2.1.0->stack-data->ipython->ipython-autotime) (1.16.0)\n"
     ]
    }
   ]
  },
  {
   "cell_type": "code",
   "execution_count": 79,
   "metadata": {
    "id": "oVe5VSXTM8DV",
    "colab": {
     "base_uri": "https://localhost:8080/"
    },
    "outputId": "4e2a2313-9127-447e-cdd7-c8682c9d11ae"
   },
   "outputs": [
    {
     "name": "stdout",
     "output_type": "stream",
     "text": [
      "time: 0 ns (started: 2023-02-05 23:22:37 -05:00)\n"
     ]
    }
   ],
   "source": [
    "def gen_hyperplanes(n,m,HIGH=1,LOW=-1):#n dimensions m planes\n",
    "  planes=[]\n",
    "  for x in range(m):\n",
    "    temp=(np.tan(np.random.rand(n)*pi))\n",
    "    temp=np.array((*(np.random.rand(1)*(HIGH-LOW)+LOW),*temp))\n",
    "    planes.append(temp)\n",
    "  return planes\n",
    "def gen_func(coeffs):\n",
    "  def f(point):\n",
    "    return (coeffs[0]+(sum(coeffs[i]*point[i-1] for i in range(1,len(coeffs)))))>0\n",
    "  return f\n",
    "def test_hyperplanes(point,hyperplanes):#assigns point a region number\n",
    "    v=0\n",
    "    for hyperplane in hyperplanes:\n",
    "      v+=hyperplane(point)\n",
    "      v<<=1\n",
    "    return v>>1\n",
    "def generate_planes(df):\n",
    "  n=len(df.columns)-1\n",
    "  m=int(log(len(df))+.5)\n",
    "  all_coeffs=gen_hyperplanes(n,m)\n",
    "  return tuple(gen_func(coeff) for coeff in all_coeffs)\n",
    "def assign_planes(df,hyperplanes):\n",
    "  return df.drop('id',axis=1).apply(test_hyperplanes,hyperplanes=hyperplanes,axis=1)"
   ]
  },
  {
   "cell_type": "code",
   "execution_count": 92,
   "outputs": [
    {
     "name": "stdout",
     "output_type": "stream",
     "text": [
      "time: 1.73 s (started: 2023-02-05 23:41:38 -05:00)\n"
     ]
    }
   ],
   "source": [
    "train=pd.read_csv(\"Data/train_chem.csv\").drop(\"Unnamed: 0\", axis=1)\n",
    "test=pd.read_csv(\"Data/test_chem.csv\").drop(\"Unnamed: 0\",axis=1)\n",
    "for c in train.drop('id',axis=1).columns:#ignore id\n",
    "  train[c]=(train[c]-train[c].mean())/train[c].std()\n",
    "for c in test.drop('id',axis=1).columns:#ignore id\n",
    "  test[c]=(test[c]-test[c].mean())/test[c].std()"
   ],
   "metadata": {
    "collapsed": false
   }
  },
  {
   "cell_type": "code",
   "source": [
    "train=pd.read_csv(\"Data/newDF_chem.csv\").drop(\"Unnamed: 0\",axis=1)\n",
    "test=pd.read_csv(\"Data/test_chem.csv\").drop(\"Unnamed: 0\",axis=1)\n",
    "for c in train.drop('id',axis=1).columns:#ignore id\n",
    "  train[c]=(train[c]-train[c].mean())/train[c].std()\n",
    "for c in test.drop('id',axis=1).columns:#ignore id\n",
    "  test[c]=(test[c]-test[c].mean())/test[c].std()"
   ],
   "metadata": {
    "colab": {
     "base_uri": "https://localhost:8080/"
    },
    "id": "yn_sBTcyLgRY",
    "outputId": "1fe783ea-1665-47c3-da3c-2572854f5fd6"
   },
   "execution_count": 80,
   "outputs": [
    {
     "name": "stdout",
     "output_type": "stream",
     "text": [
      "time: 1 s (started: 2023-02-05 23:22:40 -05:00)\n"
     ]
    }
   ]
  },
  {
   "cell_type": "code",
   "execution_count": 81,
   "metadata": {
    "id": "HDzSBvAMRSEZ",
    "colab": {
     "base_uri": "https://localhost:8080/",
     "height": 372
    },
    "outputId": "a2b9be94-07f5-4443-d6fe-609a897f7240"
   },
   "outputs": [
    {
     "name": "stdout",
     "output_type": "stream",
     "text": [
      "time: 1min 43s (started: 2023-02-05 23:22:42 -05:00)\n"
     ]
    }
   ],
   "source": [
    "#dont run for baseline testing\n",
    "planes=generate_planes(train)\n",
    "train['region']=assign_planes(train,planes)\n",
    "test['region']=assign_planes(test,planes)"
   ]
  },
  {
   "cell_type": "code",
   "source": [
    "#only for baseline testing\n",
    "train['region']=None\n",
    "overall_knn=KNeighborsClassifier(n_neighbors=5,algorithm=\"ball_tree\").fit(train.drop('id',axis=1).drop('region',axis=1),train['id'])"
   ],
   "metadata": {
    "colab": {
     "base_uri": "https://localhost:8080/"
    },
    "id": "W_yhBWRfKsMx",
    "outputId": "58e585a8-4ff4-4601-d649-300854d73daa"
   },
   "execution_count": 53,
   "outputs": [
    {
     "name": "stdout",
     "output_type": "stream",
     "text": [
      "time: 484 ms (started: 2023-02-05 23:04:05 -05:00)\n"
     ]
    }
   ]
  },
  {
   "cell_type": "code",
   "source": [
    "base_pred=overall_knn.predict(test.drop('id',axis=1))"
   ],
   "metadata": {
    "colab": {
     "base_uri": "https://localhost:8080/"
    },
    "id": "qmk93O-wKGZ4",
    "outputId": "8dd62599-9c6c-4a4b-b282-5e198bf791e9"
   },
   "execution_count": 54,
   "outputs": [
    {
     "name": "stdout",
     "output_type": "stream",
     "text": [
      "time: 3min 42s (started: 2023-02-05 23:04:08 -05:00)\n"
     ]
    }
   ]
  },
  {
   "cell_type": "code",
   "source": [
    "truth=test['id']\n",
    "accuracy=accuracy_score(truth,base_pred)\n",
    "balanced_accuracy=balanced_accuracy_score(truth,base_pred)\n",
    "accuracy,balanced_accuracy"
   ],
   "metadata": {
    "colab": {
     "base_uri": "https://localhost:8080/"
    },
    "id": "HCW0mK5TMZOh",
    "outputId": "1227be25-8fec-4d4a-9013-af3467d58095"
   },
   "execution_count": 55,
   "outputs": [
    {
     "data": {
      "text/plain": "(0.9802096900935424, 0.9808246276874363)"
     },
     "execution_count": 55,
     "metadata": {},
     "output_type": "execute_result"
    },
    {
     "name": "stdout",
     "output_type": "stream",
     "text": [
      "time: 875 ms (started: 2023-02-05 23:08:31 -05:00)\n"
     ]
    }
   ]
  },
  {
   "cell_type": "code",
   "execution_count": 56,
   "outputs": [
    {
     "data": {
      "text/plain": "Text(0.5, 1.0, 'ball_tree KNN w/ RMHC')"
     },
     "execution_count": 56,
     "metadata": {},
     "output_type": "execute_result"
    },
    {
     "data": {
      "text/plain": "<Figure size 640x480 with 2 Axes>",
      "image/png": "[encoded data removed]"
     },
     "metadata": {},
     "output_type": "display_data"
    },
    {
     "name": "stdout",
     "output_type": "stream",
     "text": [
      "time: 1.09 s (started: 2023-02-05 23:08:56 -05:00)\n"
     ]
    }
   ],
   "source": [
    "import pandas as pd\n",
    "import seaborn as sns\n",
    "import numpy as np\n",
    "from sklearn.metrics import confusion_matrix,accuracy_score,ConfusionMatrixDisplay,balanced_accuracy_score\n",
    "import matplotlib.pyplot as plt\n",
    "\n",
    "pred=base_pred\n",
    "\n",
    "labels='background','banana','wine'\n",
    "plot=sns.heatmap((confusion_matrix((truth),(pred))),cmap=\"plasma\",annot=True,fmt=\"\")\n",
    "plot.set_xticklabels(labels)\n",
    "plot.set_yticklabels(labels)\n",
    "plot.set_title(\"ball_tree KNN w/ RMHC\")"
   ],
   "metadata": {
    "collapsed": false
   }
  },
  {
   "cell_type": "code",
   "execution_count": 82,
   "outputs": [
    {
     "data": {
      "text/plain": "True     371479\nFalse       117\nName: ISIN, dtype: int64"
     },
     "execution_count": 82,
     "metadata": {},
     "output_type": "execute_result"
    },
    {
     "name": "stdout",
     "output_type": "stream",
     "text": [
      "time: 250 ms (started: 2023-02-05 23:25:11 -05:00)\n"
     ]
    }
   ],
   "source": [
    "regional_knns={region:\n",
    "               lambda x:pd.Series(index=x.index,data=train[train['region']==region]['id'].value_counts().index[0])\n",
    "               if len(train[train['region']==region])<5\n",
    "               else KNeighborsClassifier(n_neighbors=5,algorithm=\"brute\").fit(train[train['region']==region].drop('id',axis=1),train[train['region']==region]['id']).predict for region in train['region'].unique()}\n",
    "overall_knn=KNeighborsClassifier(n_neighbors=5,algorithm=\"brute\").fit(train.drop('id',axis=1).drop('region',axis=1),train['id'])\n",
    "test['ISIN']=test['region'].apply(lambda r:r in regional_knns)\n",
    "test_x,test_y=test.drop('id',axis=1),test[['id','ISIN','region']]\n",
    "test['ISIN'].value_counts()"
   ],
   "metadata": {
    "collapsed": false
   }
  },
  {
   "cell_type": "code",
   "execution_count": 83,
   "outputs": [
    {
     "name": "stdout",
     "output_type": "stream",
     "text": [
      "time: 7.52 s (started: 2023-02-05 23:25:12 -05:00)\n"
     ]
    }
   ],
   "source": [
    "test_x,test_y=test.drop('id',axis=1),test[['id','ISIN','region']]\n",
    "t=test_x[test_x['ISIN']==True]\n",
    "out=test_x[test_x['ISIN']==False]\n",
    "knn=KNeighborsClassifier(n_neighbors=5,algorithm='ball_tree').fit(train.drop(['id','region'],axis=1),train['id'])\n",
    "overall_pred=pd.Series(index = out.index,data = knn.predict(out.drop(['region','ISIN'],axis=1)))\n",
    "region_pred = []\n",
    "for region in t['region'].unique():\n",
    "  cur_test=t[t['region']==region]\n",
    "  cur_train=train[train['region']==region]\n",
    "  if len(train[train['region']==region])<5:\n",
    "    region_pred.append( pd.Series(index=cur_test.index,data=cur_train['id'].value_counts().index[0]) )\n",
    "  else:\n",
    "    knn=KNeighborsClassifier(n_neighbors=5,algorithm='ball_tree').fit(cur_train.drop(['id','region'],axis=1),cur_train['id'])\n",
    "    region_pred.append(pd.Series(index=cur_test.index,data=knn.predict(cur_test.drop(['region','ISIN'],axis=1))))\n",
    "truth=test_y['id']\n",
    "pred=pd.concat([*region_pred,overall_pred])"
   ],
   "metadata": {
    "collapsed": false
   }
  },
  {
   "cell_type": "code",
   "execution_count": 85,
   "outputs": [
    {
     "name": "stdout",
     "output_type": "stream",
     "text": [
      "0.9790982680114964\n",
      "time: 250 ms (started: 2023-02-05 23:26:16 -05:00)\n"
     ]
    }
   ],
   "source": [
    "accuracy=accuracy_score(truth,pred.sort_index())\n",
    "print(accuracy)"
   ],
   "metadata": {
    "collapsed": false
   }
  },
  {
   "cell_type": "code",
   "execution_count": 84,
   "outputs": [
    {
     "data": {
      "text/plain": "Text(0.5, 1.0, 'ball_tree KNN w/ Hyperplane Division and RMHC')"
     },
     "execution_count": 84,
     "metadata": {},
     "output_type": "execute_result"
    },
    {
     "data": {
      "text/plain": "<Figure size 640x480 with 2 Axes>",
      "image/png": "[encoded data removed]"
     },
     "metadata": {},
     "output_type": "display_data"
    },
    {
     "name": "stdout",
     "output_type": "stream",
     "text": [
      "time: 1.16 s (started: 2023-02-05 23:25:32 -05:00)\n"
     ]
    }
   ],
   "source": [
    "import pandas as pd\n",
    "import seaborn as sns\n",
    "import numpy as np\n",
    "from sklearn.metrics import confusion_matrix,accuracy_score,ConfusionMatrixDisplay,balanced_accuracy_score\n",
    "import matplotlib.pyplot as plt\n",
    "\n",
    "pred=pred.sort_index()\n",
    "\n",
    "labels='background','banana','wine'\n",
    "plot=sns.heatmap((confusion_matrix((truth),(pred))),cmap=\"plasma\",annot=True,fmt=\"\")\n",
    "plot.set_xticklabels(labels)\n",
    "plot.set_yticklabels(labels)\n",
    "plot.set_title(\"ball_tree KNN w/ Hyperplane Division and RMHC\")"
   ],
   "metadata": {
    "collapsed": false
   }
  },
  {
   "cell_type": "code",
   "execution_count": null,
   "outputs": [],
   "source": [
    "from imblearn.under_sampling import CondensedNearestNeighbour\n",
    "train['region']=None\n",
    "cnn = CondensedNearestNeighbour(random_state=42)\n",
    "X_res, y_res = cnn.fit_resample(train.drop('id',axis=1).drop('region',axis=1),train['id'])"
   ],
   "metadata": {
    "collapsed": false,
    "pycharm": {
     "is_executing": true
    }
   }
  },
  {
   "cell_type": "code",
   "execution_count": null,
   "outputs": [],
   "source": [
    "overall_knn=KNeighborsClassifier(n_neighbors=5,algorithm=\"brute\").fit(X_res,y_res)\n",
    "base_pred=overall_knn.predict(test.drop('id',axis=1))"
   ],
   "metadata": {
    "collapsed": false
   }
  },
  {
   "cell_type": "code",
   "execution_count": null,
   "outputs": [],
   "source": [
    "truth=test['id']\n",
    "accuracy=accuracy_score(truth,base_pred)\n",
    "balanced_accuracy=balanced_accuracy_score(truth,base_pred)\n",
    "accuracy,balanced_accuracy"
   ],
   "metadata": {
    "collapsed": false
   }
  }
 ],
 "metadata": {
  "colab": {
   "provenance": []
  },
  "kernelspec": {
   "display_name": "Python 3",
   "name": "python3"
  },
  "language_info": {
   "name": "python"
  }
 },
 "nbformat": 4,
 "nbformat_minor": 0
}
